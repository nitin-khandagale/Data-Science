{
  "nbformat": 4,
  "nbformat_minor": 0,
  "metadata": {
    "colab": {
      "name": "brazilian_houses_to_rent",
      "provenance": [],
      "collapsed_sections": [],
      "authorship_tag": "ABX9TyMcq48RgHjXIeFg36MMNLxT",
      "include_colab_link": true
    },
    "kernelspec": {
      "name": "python3",
      "display_name": "Python 3"
    }
  },
  "cells": [
    {
      "cell_type": "markdown",
      "metadata": {
        "id": "view-in-github",
        "colab_type": "text"
      },
      "source": [
        "<a href=\"https://colab.research.google.com/github/nitin-khandagale/blogposts/blob/master/brazilian_houses_to_rent.ipynb\" target=\"_parent\"><img src=\"https://colab.research.google.com/assets/colab-badge.svg\" alt=\"Open In Colab\"/></a>"
      ]
    },
    {
      "cell_type": "code",
      "metadata": {
        "id": "Y1Oyx3vwaoTl",
        "colab_type": "code",
        "colab": {}
      },
      "source": [
        "import pandas as pd\n",
        "import numpy as np"
      ],
      "execution_count": null,
      "outputs": []
    },
    {
      "cell_type": "code",
      "metadata": {
        "id": "ZOK0rY7IbFFF",
        "colab_type": "code",
        "colab": {}
      },
      "source": [
        "import sidetable\n",
        "import plotly.express as px\n",
        "import matplotlib.pyplot as plt\n"
      ],
      "execution_count": null,
      "outputs": []
    },
    {
      "cell_type": "code",
      "metadata": {
        "id": "ElAI3v_8bGx9",
        "colab_type": "code",
        "colab": {}
      },
      "source": [
        "df = pd.read_csv('houses_to_rent_v2.csv')"
      ],
      "execution_count": null,
      "outputs": []
    },
    {
      "cell_type": "code",
      "metadata": {
        "id": "5PlEGMxPax9X",
        "colab_type": "code",
        "colab": {
          "base_uri": "https://localhost:8080/",
          "height": 279
        },
        "outputId": "ebe38e70-a5b2-4870-b40d-6592ed666ea9"
      },
      "source": [
        "df.head()"
      ],
      "execution_count": null,
      "outputs": [
        {
          "output_type": "execute_result",
          "data": {
            "text/html": [
              "<div>\n",
              "<style scoped>\n",
              "    .dataframe tbody tr th:only-of-type {\n",
              "        vertical-align: middle;\n",
              "    }\n",
              "\n",
              "    .dataframe tbody tr th {\n",
              "        vertical-align: top;\n",
              "    }\n",
              "\n",
              "    .dataframe thead th {\n",
              "        text-align: right;\n",
              "    }\n",
              "</style>\n",
              "<table border=\"1\" class=\"dataframe\">\n",
              "  <thead>\n",
              "    <tr style=\"text-align: right;\">\n",
              "      <th></th>\n",
              "      <th>city</th>\n",
              "      <th>area</th>\n",
              "      <th>rooms</th>\n",
              "      <th>bathroom</th>\n",
              "      <th>parking spaces</th>\n",
              "      <th>floor</th>\n",
              "      <th>animal</th>\n",
              "      <th>furniture</th>\n",
              "      <th>hoa (R$)</th>\n",
              "      <th>rent amount (R$)</th>\n",
              "      <th>property tax (R$)</th>\n",
              "      <th>fire insurance (R$)</th>\n",
              "      <th>total (R$)</th>\n",
              "    </tr>\n",
              "  </thead>\n",
              "  <tbody>\n",
              "    <tr>\n",
              "      <th>0</th>\n",
              "      <td>São Paulo</td>\n",
              "      <td>70</td>\n",
              "      <td>2</td>\n",
              "      <td>1</td>\n",
              "      <td>1</td>\n",
              "      <td>7</td>\n",
              "      <td>acept</td>\n",
              "      <td>furnished</td>\n",
              "      <td>2065</td>\n",
              "      <td>3300</td>\n",
              "      <td>211</td>\n",
              "      <td>42</td>\n",
              "      <td>5618</td>\n",
              "    </tr>\n",
              "    <tr>\n",
              "      <th>1</th>\n",
              "      <td>São Paulo</td>\n",
              "      <td>320</td>\n",
              "      <td>4</td>\n",
              "      <td>4</td>\n",
              "      <td>0</td>\n",
              "      <td>20</td>\n",
              "      <td>acept</td>\n",
              "      <td>not furnished</td>\n",
              "      <td>1200</td>\n",
              "      <td>4960</td>\n",
              "      <td>1750</td>\n",
              "      <td>63</td>\n",
              "      <td>7973</td>\n",
              "    </tr>\n",
              "    <tr>\n",
              "      <th>2</th>\n",
              "      <td>Porto Alegre</td>\n",
              "      <td>80</td>\n",
              "      <td>1</td>\n",
              "      <td>1</td>\n",
              "      <td>1</td>\n",
              "      <td>6</td>\n",
              "      <td>acept</td>\n",
              "      <td>not furnished</td>\n",
              "      <td>1000</td>\n",
              "      <td>2800</td>\n",
              "      <td>0</td>\n",
              "      <td>41</td>\n",
              "      <td>3841</td>\n",
              "    </tr>\n",
              "    <tr>\n",
              "      <th>3</th>\n",
              "      <td>Porto Alegre</td>\n",
              "      <td>51</td>\n",
              "      <td>2</td>\n",
              "      <td>1</td>\n",
              "      <td>0</td>\n",
              "      <td>2</td>\n",
              "      <td>acept</td>\n",
              "      <td>not furnished</td>\n",
              "      <td>270</td>\n",
              "      <td>1112</td>\n",
              "      <td>22</td>\n",
              "      <td>17</td>\n",
              "      <td>1421</td>\n",
              "    </tr>\n",
              "    <tr>\n",
              "      <th>4</th>\n",
              "      <td>São Paulo</td>\n",
              "      <td>25</td>\n",
              "      <td>1</td>\n",
              "      <td>1</td>\n",
              "      <td>0</td>\n",
              "      <td>1</td>\n",
              "      <td>not acept</td>\n",
              "      <td>not furnished</td>\n",
              "      <td>0</td>\n",
              "      <td>800</td>\n",
              "      <td>25</td>\n",
              "      <td>11</td>\n",
              "      <td>836</td>\n",
              "    </tr>\n",
              "  </tbody>\n",
              "</table>\n",
              "</div>"
            ],
            "text/plain": [
              "           city  area  ...  fire insurance (R$)  total (R$)\n",
              "0     São Paulo    70  ...                   42        5618\n",
              "1     São Paulo   320  ...                   63        7973\n",
              "2  Porto Alegre    80  ...                   41        3841\n",
              "3  Porto Alegre    51  ...                   17        1421\n",
              "4     São Paulo    25  ...                   11         836\n",
              "\n",
              "[5 rows x 13 columns]"
            ]
          },
          "metadata": {
            "tags": []
          },
          "execution_count": 26
        }
      ]
    },
    {
      "cell_type": "code",
      "metadata": {
        "id": "AMloRSRFMOgb",
        "colab_type": "code",
        "colab": {
          "base_uri": "https://localhost:8080/",
          "height": 252
        },
        "outputId": "f17fab4e-d636-4015-832b-cdf8fed334b9"
      },
      "source": [
        "df.dtypes"
      ],
      "execution_count": null,
      "outputs": [
        {
          "output_type": "execute_result",
          "data": {
            "text/plain": [
              "city                   object\n",
              "area                    int64\n",
              "rooms                   int64\n",
              "bathroom                int64\n",
              "parking spaces          int64\n",
              "floor                  object\n",
              "animal                 object\n",
              "furniture              object\n",
              "hoa (R$)                int64\n",
              "rent amount (R$)        int64\n",
              "property tax (R$)       int64\n",
              "fire insurance (R$)     int64\n",
              "total (R$)              int64\n",
              "dtype: object"
            ]
          },
          "metadata": {
            "tags": []
          },
          "execution_count": 317
        }
      ]
    },
    {
      "cell_type": "code",
      "metadata": {
        "id": "zUT0ku5EeM8P",
        "colab_type": "code",
        "colab": {}
      },
      "source": [
        "df['floor'] = pd.to_numeric(df['floor'], errors='coerce')"
      ],
      "execution_count": null,
      "outputs": []
    },
    {
      "cell_type": "code",
      "metadata": {
        "id": "XskKL03sMrrC",
        "colab_type": "code",
        "colab": {
          "base_uri": "https://localhost:8080/",
          "height": 282
        },
        "outputId": "08fb20b6-22d8-4108-9e12-1bdf73263ea0"
      },
      "source": [
        "plt.figure(figsize=(16))\n",
        "df['floor'].plot()"
      ],
      "execution_count": null,
      "outputs": [
        {
          "output_type": "execute_result",
          "data": {
            "text/plain": [
              "<matplotlib.axes._subplots.AxesSubplot at 0x7f4072ab5908>"
            ]
          },
          "metadata": {
            "tags": []
          },
          "execution_count": 322
        },
        {
          "output_type": "display_data",
          "data": {
            "image/png": "[encoded data removed]",
            "text/plain": [
              "<Figure size 432x288 with 1 Axes>"
            ]
          },
          "metadata": {
            "tags": [],
            "needs_background": "light"
          }
        }
      ]
    },
    {
      "cell_type": "code",
      "metadata": {
        "id": "IvJLdn26eM5d",
        "colab_type": "code",
        "colab": {}
      },
      "source": [
        "numeric_columns = [x for x in df.select_dtypes(exclude='object').columns]"
      ],
      "execution_count": null,
      "outputs": []
    },
    {
      "cell_type": "code",
      "metadata": {
        "id": "LU-aY4VIeM3C",
        "colab_type": "code",
        "colab": {
          "base_uri": "https://localhost:8080/",
          "height": 185
        },
        "outputId": "a868e0d5-3a78-47df-b061-16e45f6fa3de"
      },
      "source": [
        "numeric_columns"
      ],
      "execution_count": null,
      "outputs": [
        {
          "output_type": "execute_result",
          "data": {
            "text/plain": [
              "['area',\n",
              " 'rooms',\n",
              " 'bathroom',\n",
              " 'parking spaces',\n",
              " 'floor',\n",
              " 'hoa (R$)',\n",
              " 'rent amount (R$)',\n",
              " 'property tax (R$)',\n",
              " 'fire insurance (R$)',\n",
              " 'total (R$)']"
            ]
          },
          "metadata": {
            "tags": []
          },
          "execution_count": 29
        }
      ]
    },
    {
      "cell_type": "code",
      "metadata": {
        "id": "VOw6daiseMz-",
        "colab_type": "code",
        "colab": {}
      },
      "source": [
        "for col in numeric_columns:\n",
        "  col_name = col + '_zscore'\n",
        "  df[col_name] = (df[col] - df[col].mean()) / df[col].std()"
      ],
      "execution_count": null,
      "outputs": []
    },
    {
      "cell_type": "code",
      "metadata": {
        "id": "zgjDpY-VeMxM",
        "colab_type": "code",
        "colab": {
          "base_uri": "https://localhost:8080/",
          "height": 333
        },
        "outputId": "774a6b49-98c1-4ce4-af40-4a2e08a9e6bd"
      },
      "source": [
        "df.head()"
      ],
      "execution_count": null,
      "outputs": [
        {
          "output_type": "execute_result",
          "data": {
            "text/html": [
              "<div>\n",
              "<style scoped>\n",
              "    .dataframe tbody tr th:only-of-type {\n",
              "        vertical-align: middle;\n",
              "    }\n",
              "\n",
              "    .dataframe tbody tr th {\n",
              "        vertical-align: top;\n",
              "    }\n",
              "\n",
              "    .dataframe thead th {\n",
              "        text-align: right;\n",
              "    }\n",
              "</style>\n",
              "<table border=\"1\" class=\"dataframe\">\n",
              "  <thead>\n",
              "    <tr style=\"text-align: right;\">\n",
              "      <th></th>\n",
              "      <th>city</th>\n",
              "      <th>area</th>\n",
              "      <th>rooms</th>\n",
              "      <th>bathroom</th>\n",
              "      <th>parking spaces</th>\n",
              "      <th>floor</th>\n",
              "      <th>animal</th>\n",
              "      <th>furniture</th>\n",
              "      <th>hoa (R$)</th>\n",
              "      <th>rent amount (R$)</th>\n",
              "      <th>property tax (R$)</th>\n",
              "      <th>fire insurance (R$)</th>\n",
              "      <th>total (R$)</th>\n",
              "      <th>area_zscore</th>\n",
              "      <th>rooms_zscore</th>\n",
              "      <th>bathroom_zscore</th>\n",
              "      <th>parking spaces_zscore</th>\n",
              "      <th>floor_zscore</th>\n",
              "      <th>hoa (R$)_zscore</th>\n",
              "      <th>rent amount (R$)_zscore</th>\n",
              "      <th>property tax (R$)_zscore</th>\n",
              "      <th>fire insurance (R$)_zscore</th>\n",
              "      <th>total (R$)_zscore</th>\n",
              "    </tr>\n",
              "  </thead>\n",
              "  <tbody>\n",
              "    <tr>\n",
              "      <th>0</th>\n",
              "      <td>São Paulo</td>\n",
              "      <td>70</td>\n",
              "      <td>2</td>\n",
              "      <td>1</td>\n",
              "      <td>1</td>\n",
              "      <td>7.0</td>\n",
              "      <td>acept</td>\n",
              "      <td>furnished</td>\n",
              "      <td>2065</td>\n",
              "      <td>3300</td>\n",
              "      <td>211</td>\n",
              "      <td>42</td>\n",
              "      <td>5618</td>\n",
              "      <td>-0.147515</td>\n",
              "      <td>-0.432079</td>\n",
              "      <td>-0.878919</td>\n",
              "      <td>-0.383227</td>\n",
              "      <td>0.067716</td>\n",
              "      <td>0.057142</td>\n",
              "      <td>-0.174927</td>\n",
              "      <td>-0.050101</td>\n",
              "      <td>-0.236578</td>\n",
              "      <td>0.007735</td>\n",
              "    </tr>\n",
              "    <tr>\n",
              "      <th>1</th>\n",
              "      <td>São Paulo</td>\n",
              "      <td>320</td>\n",
              "      <td>4</td>\n",
              "      <td>4</td>\n",
              "      <td>0</td>\n",
              "      <td>20.0</td>\n",
              "      <td>acept</td>\n",
              "      <td>not furnished</td>\n",
              "      <td>1200</td>\n",
              "      <td>4960</td>\n",
              "      <td>1750</td>\n",
              "      <td>63</td>\n",
              "      <td>7973</td>\n",
              "      <td>0.318020</td>\n",
              "      <td>1.275475</td>\n",
              "      <td>1.252977</td>\n",
              "      <td>-1.012347</td>\n",
              "      <td>2.180189</td>\n",
              "      <td>0.001666</td>\n",
              "      <td>0.312084</td>\n",
              "      <td>0.445100</td>\n",
              "      <td>0.203046</td>\n",
              "      <td>0.150595</td>\n",
              "    </tr>\n",
              "    <tr>\n",
              "      <th>2</th>\n",
              "      <td>Porto Alegre</td>\n",
              "      <td>80</td>\n",
              "      <td>1</td>\n",
              "      <td>1</td>\n",
              "      <td>1</td>\n",
              "      <td>6.0</td>\n",
              "      <td>acept</td>\n",
              "      <td>not furnished</td>\n",
              "      <td>1000</td>\n",
              "      <td>2800</td>\n",
              "      <td>0</td>\n",
              "      <td>41</td>\n",
              "      <td>3841</td>\n",
              "      <td>-0.128893</td>\n",
              "      <td>-1.285856</td>\n",
              "      <td>-0.878919</td>\n",
              "      <td>-0.383227</td>\n",
              "      <td>-0.094782</td>\n",
              "      <td>-0.011161</td>\n",
              "      <td>-0.321617</td>\n",
              "      <td>-0.117994</td>\n",
              "      <td>-0.257513</td>\n",
              "      <td>-0.100062</td>\n",
              "    </tr>\n",
              "    <tr>\n",
              "      <th>3</th>\n",
              "      <td>Porto Alegre</td>\n",
              "      <td>51</td>\n",
              "      <td>2</td>\n",
              "      <td>1</td>\n",
              "      <td>0</td>\n",
              "      <td>2.0</td>\n",
              "      <td>acept</td>\n",
              "      <td>not furnished</td>\n",
              "      <td>270</td>\n",
              "      <td>1112</td>\n",
              "      <td>22</td>\n",
              "      <td>17</td>\n",
              "      <td>1421</td>\n",
              "      <td>-0.182895</td>\n",
              "      <td>-0.432079</td>\n",
              "      <td>-0.878919</td>\n",
              "      <td>-1.012347</td>\n",
              "      <td>-0.744774</td>\n",
              "      <td>-0.057979</td>\n",
              "      <td>-0.816843</td>\n",
              "      <td>-0.110915</td>\n",
              "      <td>-0.759941</td>\n",
              "      <td>-0.246864</td>\n",
              "    </tr>\n",
              "    <tr>\n",
              "      <th>4</th>\n",
              "      <td>São Paulo</td>\n",
              "      <td>25</td>\n",
              "      <td>1</td>\n",
              "      <td>1</td>\n",
              "      <td>0</td>\n",
              "      <td>1.0</td>\n",
              "      <td>not acept</td>\n",
              "      <td>not furnished</td>\n",
              "      <td>0</td>\n",
              "      <td>800</td>\n",
              "      <td>25</td>\n",
              "      <td>11</td>\n",
              "      <td>836</td>\n",
              "      <td>-0.231311</td>\n",
              "      <td>-1.285856</td>\n",
              "      <td>-0.878919</td>\n",
              "      <td>-1.012347</td>\n",
              "      <td>-0.907272</td>\n",
              "      <td>-0.075295</td>\n",
              "      <td>-0.908378</td>\n",
              "      <td>-0.109949</td>\n",
              "      <td>-0.885548</td>\n",
              "      <td>-0.282351</td>\n",
              "    </tr>\n",
              "  </tbody>\n",
              "</table>\n",
              "</div>"
            ],
            "text/plain": [
              "           city  area  ...  fire insurance (R$)_zscore  total (R$)_zscore\n",
              "0     São Paulo    70  ...                   -0.236578           0.007735\n",
              "1     São Paulo   320  ...                    0.203046           0.150595\n",
              "2  Porto Alegre    80  ...                   -0.257513          -0.100062\n",
              "3  Porto Alegre    51  ...                   -0.759941          -0.246864\n",
              "4     São Paulo    25  ...                   -0.885548          -0.282351\n",
              "\n",
              "[5 rows x 23 columns]"
            ]
          },
          "metadata": {
            "tags": []
          },
          "execution_count": 31
        }
      ]
    },
    {
      "cell_type": "code",
      "metadata": {
        "id": "AQSC3scweMuW",
        "colab_type": "code",
        "colab": {
          "base_uri": "https://localhost:8080/",
          "height": 34
        },
        "outputId": "fe81914a-bff5-461b-a354-7ef8b1e78103"
      },
      "source": [
        "df.shape"
      ],
      "execution_count": null,
      "outputs": [
        {
          "output_type": "execute_result",
          "data": {
            "text/plain": [
              "(10692, 23)"
            ]
          },
          "metadata": {
            "tags": []
          },
          "execution_count": 32
        }
      ]
    },
    {
      "cell_type": "code",
      "metadata": {
        "id": "UwdB1aHHeMrV",
        "colab_type": "code",
        "colab": {}
      },
      "source": [
        "import seaborn as sns"
      ],
      "execution_count": null,
      "outputs": []
    },
    {
      "cell_type": "code",
      "metadata": {
        "id": "QMLAaqzQjDiP",
        "colab_type": "code",
        "colab": {}
      },
      "source": [
        "df = df.drop(numeric_columns, axis='columns')"
      ],
      "execution_count": null,
      "outputs": []
    },
    {
      "cell_type": "code",
      "metadata": {
        "id": "xUy54qxujDf3",
        "colab_type": "code",
        "colab": {
          "base_uri": "https://localhost:8080/",
          "height": 333
        },
        "outputId": "6e840515-2bdb-488b-f3e4-780682506ae7"
      },
      "source": [
        "df.head()"
      ],
      "execution_count": null,
      "outputs": [
        {
          "output_type": "execute_result",
          "data": {
            "text/html": [
              "<div>\n",
              "<style scoped>\n",
              "    .dataframe tbody tr th:only-of-type {\n",
              "        vertical-align: middle;\n",
              "    }\n",
              "\n",
              "    .dataframe tbody tr th {\n",
              "        vertical-align: top;\n",
              "    }\n",
              "\n",
              "    .dataframe thead th {\n",
              "        text-align: right;\n",
              "    }\n",
              "</style>\n",
              "<table border=\"1\" class=\"dataframe\">\n",
              "  <thead>\n",
              "    <tr style=\"text-align: right;\">\n",
              "      <th></th>\n",
              "      <th>city</th>\n",
              "      <th>animal</th>\n",
              "      <th>furniture</th>\n",
              "      <th>area_zscore</th>\n",
              "      <th>rooms_zscore</th>\n",
              "      <th>bathroom_zscore</th>\n",
              "      <th>parking spaces_zscore</th>\n",
              "      <th>floor_zscore</th>\n",
              "      <th>hoa (R$)_zscore</th>\n",
              "      <th>rent amount (R$)_zscore</th>\n",
              "      <th>property tax (R$)_zscore</th>\n",
              "      <th>fire insurance (R$)_zscore</th>\n",
              "      <th>total (R$)_zscore</th>\n",
              "    </tr>\n",
              "  </thead>\n",
              "  <tbody>\n",
              "    <tr>\n",
              "      <th>0</th>\n",
              "      <td>São Paulo</td>\n",
              "      <td>acept</td>\n",
              "      <td>furnished</td>\n",
              "      <td>-0.147515</td>\n",
              "      <td>-0.432079</td>\n",
              "      <td>-0.878919</td>\n",
              "      <td>-0.383227</td>\n",
              "      <td>0.067716</td>\n",
              "      <td>0.057142</td>\n",
              "      <td>-0.174927</td>\n",
              "      <td>-0.050101</td>\n",
              "      <td>-0.236578</td>\n",
              "      <td>0.007735</td>\n",
              "    </tr>\n",
              "    <tr>\n",
              "      <th>1</th>\n",
              "      <td>São Paulo</td>\n",
              "      <td>acept</td>\n",
              "      <td>not furnished</td>\n",
              "      <td>0.318020</td>\n",
              "      <td>1.275475</td>\n",
              "      <td>1.252977</td>\n",
              "      <td>-1.012347</td>\n",
              "      <td>2.180189</td>\n",
              "      <td>0.001666</td>\n",
              "      <td>0.312084</td>\n",
              "      <td>0.445100</td>\n",
              "      <td>0.203046</td>\n",
              "      <td>0.150595</td>\n",
              "    </tr>\n",
              "    <tr>\n",
              "      <th>2</th>\n",
              "      <td>Porto Alegre</td>\n",
              "      <td>acept</td>\n",
              "      <td>not furnished</td>\n",
              "      <td>-0.128893</td>\n",
              "      <td>-1.285856</td>\n",
              "      <td>-0.878919</td>\n",
              "      <td>-0.383227</td>\n",
              "      <td>-0.094782</td>\n",
              "      <td>-0.011161</td>\n",
              "      <td>-0.321617</td>\n",
              "      <td>-0.117994</td>\n",
              "      <td>-0.257513</td>\n",
              "      <td>-0.100062</td>\n",
              "    </tr>\n",
              "    <tr>\n",
              "      <th>3</th>\n",
              "      <td>Porto Alegre</td>\n",
              "      <td>acept</td>\n",
              "      <td>not furnished</td>\n",
              "      <td>-0.182895</td>\n",
              "      <td>-0.432079</td>\n",
              "      <td>-0.878919</td>\n",
              "      <td>-1.012347</td>\n",
              "      <td>-0.744774</td>\n",
              "      <td>-0.057979</td>\n",
              "      <td>-0.816843</td>\n",
              "      <td>-0.110915</td>\n",
              "      <td>-0.759941</td>\n",
              "      <td>-0.246864</td>\n",
              "    </tr>\n",
              "    <tr>\n",
              "      <th>4</th>\n",
              "      <td>São Paulo</td>\n",
              "      <td>not acept</td>\n",
              "      <td>not furnished</td>\n",
              "      <td>-0.231311</td>\n",
              "      <td>-1.285856</td>\n",
              "      <td>-0.878919</td>\n",
              "      <td>-1.012347</td>\n",
              "      <td>-0.907272</td>\n",
              "      <td>-0.075295</td>\n",
              "      <td>-0.908378</td>\n",
              "      <td>-0.109949</td>\n",
              "      <td>-0.885548</td>\n",
              "      <td>-0.282351</td>\n",
              "    </tr>\n",
              "  </tbody>\n",
              "</table>\n",
              "</div>"
            ],
            "text/plain": [
              "           city     animal  ... fire insurance (R$)_zscore  total (R$)_zscore\n",
              "0     São Paulo      acept  ...                  -0.236578           0.007735\n",
              "1     São Paulo      acept  ...                   0.203046           0.150595\n",
              "2  Porto Alegre      acept  ...                  -0.257513          -0.100062\n",
              "3  Porto Alegre      acept  ...                  -0.759941          -0.246864\n",
              "4     São Paulo  not acept  ...                  -0.885548          -0.282351\n",
              "\n",
              "[5 rows x 13 columns]"
            ]
          },
          "metadata": {
            "tags": []
          },
          "execution_count": 38
        }
      ]
    },
    {
      "cell_type": "code",
      "metadata": {
        "id": "Wzssct2WjDcg",
        "colab_type": "code",
        "colab": {}
      },
      "source": [
        "for col in df.select_dtypes(exclude='object').columns:\n",
        "  df[col] = df[(df[col] > -3) & (df[col] < 3)][col]"
      ],
      "execution_count": null,
      "outputs": []
    },
    {
      "cell_type": "code",
      "metadata": {
        "id": "0XwnDvpyjDZe",
        "colab_type": "code",
        "colab": {
          "base_uri": "https://localhost:8080/",
          "height": 34
        },
        "outputId": "c7fd7392-3ebb-46c4-b6ce-102bbfac89f0"
      },
      "source": [
        "df.shape"
      ],
      "execution_count": null,
      "outputs": [
        {
          "output_type": "execute_result",
          "data": {
            "text/plain": [
              "(10692, 13)"
            ]
          },
          "metadata": {
            "tags": []
          },
          "execution_count": 40
        }
      ]
    },
    {
      "cell_type": "code",
      "metadata": {
        "id": "LqPs45qikruI",
        "colab_type": "code",
        "colab": {
          "base_uri": "https://localhost:8080/",
          "height": 432
        },
        "outputId": "b66efb85-714c-4aae-b738-97953a8923d9"
      },
      "source": [
        "df.stb.missing()"
      ],
      "execution_count": null,
      "outputs": [
        {
          "output_type": "execute_result",
          "data": {
            "text/html": [
              "<div>\n",
              "<style scoped>\n",
              "    .dataframe tbody tr th:only-of-type {\n",
              "        vertical-align: middle;\n",
              "    }\n",
              "\n",
              "    .dataframe tbody tr th {\n",
              "        vertical-align: top;\n",
              "    }\n",
              "\n",
              "    .dataframe thead th {\n",
              "        text-align: right;\n",
              "    }\n",
              "</style>\n",
              "<table border=\"1\" class=\"dataframe\">\n",
              "  <thead>\n",
              "    <tr style=\"text-align: right;\">\n",
              "      <th></th>\n",
              "      <th>missing</th>\n",
              "      <th>total</th>\n",
              "      <th>percent</th>\n",
              "    </tr>\n",
              "  </thead>\n",
              "  <tbody>\n",
              "    <tr>\n",
              "      <th>floor_zscore</th>\n",
              "      <td>2506</td>\n",
              "      <td>10692</td>\n",
              "      <td>23.438085</td>\n",
              "    </tr>\n",
              "    <tr>\n",
              "      <th>rent amount (R$)_zscore</th>\n",
              "      <td>256</td>\n",
              "      <td>10692</td>\n",
              "      <td>2.394314</td>\n",
              "    </tr>\n",
              "    <tr>\n",
              "      <th>fire insurance (R$)_zscore</th>\n",
              "      <td>178</td>\n",
              "      <td>10692</td>\n",
              "      <td>1.664796</td>\n",
              "    </tr>\n",
              "    <tr>\n",
              "      <th>parking spaces_zscore</th>\n",
              "      <td>159</td>\n",
              "      <td>10692</td>\n",
              "      <td>1.487093</td>\n",
              "    </tr>\n",
              "    <tr>\n",
              "      <th>bathroom_zscore</th>\n",
              "      <td>103</td>\n",
              "      <td>10692</td>\n",
              "      <td>0.963337</td>\n",
              "    </tr>\n",
              "    <tr>\n",
              "      <th>rooms_zscore</th>\n",
              "      <td>52</td>\n",
              "      <td>10692</td>\n",
              "      <td>0.486345</td>\n",
              "    </tr>\n",
              "    <tr>\n",
              "      <th>property tax (R$)_zscore</th>\n",
              "      <td>6</td>\n",
              "      <td>10692</td>\n",
              "      <td>0.056117</td>\n",
              "    </tr>\n",
              "    <tr>\n",
              "      <th>total (R$)_zscore</th>\n",
              "      <td>6</td>\n",
              "      <td>10692</td>\n",
              "      <td>0.056117</td>\n",
              "    </tr>\n",
              "    <tr>\n",
              "      <th>area_zscore</th>\n",
              "      <td>5</td>\n",
              "      <td>10692</td>\n",
              "      <td>0.046764</td>\n",
              "    </tr>\n",
              "    <tr>\n",
              "      <th>hoa (R$)_zscore</th>\n",
              "      <td>5</td>\n",
              "      <td>10692</td>\n",
              "      <td>0.046764</td>\n",
              "    </tr>\n",
              "    <tr>\n",
              "      <th>city</th>\n",
              "      <td>0</td>\n",
              "      <td>10692</td>\n",
              "      <td>0.000000</td>\n",
              "    </tr>\n",
              "    <tr>\n",
              "      <th>animal</th>\n",
              "      <td>0</td>\n",
              "      <td>10692</td>\n",
              "      <td>0.000000</td>\n",
              "    </tr>\n",
              "    <tr>\n",
              "      <th>furniture</th>\n",
              "      <td>0</td>\n",
              "      <td>10692</td>\n",
              "      <td>0.000000</td>\n",
              "    </tr>\n",
              "  </tbody>\n",
              "</table>\n",
              "</div>"
            ],
            "text/plain": [
              "                            missing  total    percent\n",
              "floor_zscore                   2506  10692  23.438085\n",
              "rent amount (R$)_zscore         256  10692   2.394314\n",
              "fire insurance (R$)_zscore      178  10692   1.664796\n",
              "parking spaces_zscore           159  10692   1.487093\n",
              "bathroom_zscore                 103  10692   0.963337\n",
              "rooms_zscore                     52  10692   0.486345\n",
              "property tax (R$)_zscore          6  10692   0.056117\n",
              "total (R$)_zscore                 6  10692   0.056117\n",
              "area_zscore                       5  10692   0.046764\n",
              "hoa (R$)_zscore                   5  10692   0.046764\n",
              "city                              0  10692   0.000000\n",
              "animal                            0  10692   0.000000\n",
              "furniture                         0  10692   0.000000"
            ]
          },
          "metadata": {
            "tags": []
          },
          "execution_count": 43
        }
      ]
    },
    {
      "cell_type": "code",
      "metadata": {
        "id": "H9Irqzh5qNo2",
        "colab_type": "code",
        "colab": {}
      },
      "source": [
        "df = df.dropna()"
      ],
      "execution_count": null,
      "outputs": []
    },
    {
      "cell_type": "code",
      "metadata": {
        "id": "DMWaapnNIMgg",
        "colab_type": "code",
        "colab": {
          "base_uri": "https://localhost:8080/",
          "height": 569
        },
        "outputId": "7ac506ad-95bb-44a3-f26e-30e11e7d945b"
      },
      "source": [
        "df.select_dtypes('float64').plot(kind='box',subplots=True, layout=(5,2), sharex=True, sharey=True, figsize=(32,16))\n",
        "plt.show()"
      ],
      "execution_count": null,
      "outputs": [
        {
          "output_type": "display_data",
          "data": {
            "image/png": "[encoded data removed]",
            "text/plain": [
              "<Figure size 2304x1152 with 10 Axes>"
            ]
          },
          "metadata": {
            "tags": [],
            "needs_background": "light"
          }
        }
      ]
    },
    {
      "cell_type": "code",
      "metadata": {
        "id": "99JnG1RCqR9Q",
        "colab_type": "code",
        "colab": {
          "base_uri": "https://localhost:8080/",
          "height": 34
        },
        "outputId": "ea23e284-02d6-4fca-bbe3-95ee4eb7b436"
      },
      "source": [
        "df.shape"
      ],
      "execution_count": null,
      "outputs": [
        {
          "output_type": "execute_result",
          "data": {
            "text/plain": [
              "(7994, 13)"
            ]
          },
          "metadata": {
            "tags": []
          },
          "execution_count": 45
        }
      ]
    },
    {
      "cell_type": "code",
      "metadata": {
        "id": "MuAarZkNqR6p",
        "colab_type": "code",
        "colab": {
          "base_uri": "https://localhost:8080/",
          "height": 333
        },
        "outputId": "9de1f686-a31c-4ad2-d702-29e7e5f81b8e"
      },
      "source": [
        "df.head()"
      ],
      "execution_count": null,
      "outputs": [
        {
          "output_type": "execute_result",
          "data": {
            "text/html": [
              "<div>\n",
              "<style scoped>\n",
              "    .dataframe tbody tr th:only-of-type {\n",
              "        vertical-align: middle;\n",
              "    }\n",
              "\n",
              "    .dataframe tbody tr th {\n",
              "        vertical-align: top;\n",
              "    }\n",
              "\n",
              "    .dataframe thead th {\n",
              "        text-align: right;\n",
              "    }\n",
              "</style>\n",
              "<table border=\"1\" class=\"dataframe\">\n",
              "  <thead>\n",
              "    <tr style=\"text-align: right;\">\n",
              "      <th></th>\n",
              "      <th>city</th>\n",
              "      <th>animal</th>\n",
              "      <th>furniture</th>\n",
              "      <th>area_zscore</th>\n",
              "      <th>rooms_zscore</th>\n",
              "      <th>bathroom_zscore</th>\n",
              "      <th>parking spaces_zscore</th>\n",
              "      <th>floor_zscore</th>\n",
              "      <th>hoa (R$)_zscore</th>\n",
              "      <th>rent amount (R$)_zscore</th>\n",
              "      <th>property tax (R$)_zscore</th>\n",
              "      <th>fire insurance (R$)_zscore</th>\n",
              "      <th>total (R$)_zscore</th>\n",
              "    </tr>\n",
              "  </thead>\n",
              "  <tbody>\n",
              "    <tr>\n",
              "      <th>0</th>\n",
              "      <td>São Paulo</td>\n",
              "      <td>acept</td>\n",
              "      <td>furnished</td>\n",
              "      <td>-0.147515</td>\n",
              "      <td>-0.432079</td>\n",
              "      <td>-0.878919</td>\n",
              "      <td>-0.383227</td>\n",
              "      <td>0.067716</td>\n",
              "      <td>0.057142</td>\n",
              "      <td>-0.174927</td>\n",
              "      <td>-0.050101</td>\n",
              "      <td>-0.236578</td>\n",
              "      <td>0.007735</td>\n",
              "    </tr>\n",
              "    <tr>\n",
              "      <th>1</th>\n",
              "      <td>São Paulo</td>\n",
              "      <td>acept</td>\n",
              "      <td>not furnished</td>\n",
              "      <td>0.318020</td>\n",
              "      <td>1.275475</td>\n",
              "      <td>1.252977</td>\n",
              "      <td>-1.012347</td>\n",
              "      <td>2.180189</td>\n",
              "      <td>0.001666</td>\n",
              "      <td>0.312084</td>\n",
              "      <td>0.445100</td>\n",
              "      <td>0.203046</td>\n",
              "      <td>0.150595</td>\n",
              "    </tr>\n",
              "    <tr>\n",
              "      <th>2</th>\n",
              "      <td>Porto Alegre</td>\n",
              "      <td>acept</td>\n",
              "      <td>not furnished</td>\n",
              "      <td>-0.128893</td>\n",
              "      <td>-1.285856</td>\n",
              "      <td>-0.878919</td>\n",
              "      <td>-0.383227</td>\n",
              "      <td>-0.094782</td>\n",
              "      <td>-0.011161</td>\n",
              "      <td>-0.321617</td>\n",
              "      <td>-0.117994</td>\n",
              "      <td>-0.257513</td>\n",
              "      <td>-0.100062</td>\n",
              "    </tr>\n",
              "    <tr>\n",
              "      <th>3</th>\n",
              "      <td>Porto Alegre</td>\n",
              "      <td>acept</td>\n",
              "      <td>not furnished</td>\n",
              "      <td>-0.182895</td>\n",
              "      <td>-0.432079</td>\n",
              "      <td>-0.878919</td>\n",
              "      <td>-1.012347</td>\n",
              "      <td>-0.744774</td>\n",
              "      <td>-0.057979</td>\n",
              "      <td>-0.816843</td>\n",
              "      <td>-0.110915</td>\n",
              "      <td>-0.759941</td>\n",
              "      <td>-0.246864</td>\n",
              "    </tr>\n",
              "    <tr>\n",
              "      <th>4</th>\n",
              "      <td>São Paulo</td>\n",
              "      <td>not acept</td>\n",
              "      <td>not furnished</td>\n",
              "      <td>-0.231311</td>\n",
              "      <td>-1.285856</td>\n",
              "      <td>-0.878919</td>\n",
              "      <td>-1.012347</td>\n",
              "      <td>-0.907272</td>\n",
              "      <td>-0.075295</td>\n",
              "      <td>-0.908378</td>\n",
              "      <td>-0.109949</td>\n",
              "      <td>-0.885548</td>\n",
              "      <td>-0.282351</td>\n",
              "    </tr>\n",
              "  </tbody>\n",
              "</table>\n",
              "</div>"
            ],
            "text/plain": [
              "           city     animal  ... fire insurance (R$)_zscore  total (R$)_zscore\n",
              "0     São Paulo      acept  ...                  -0.236578           0.007735\n",
              "1     São Paulo      acept  ...                   0.203046           0.150595\n",
              "2  Porto Alegre      acept  ...                  -0.257513          -0.100062\n",
              "3  Porto Alegre      acept  ...                  -0.759941          -0.246864\n",
              "4     São Paulo  not acept  ...                  -0.885548          -0.282351\n",
              "\n",
              "[5 rows x 13 columns]"
            ]
          },
          "metadata": {
            "tags": []
          },
          "execution_count": 46
        }
      ]
    },
    {
      "cell_type": "code",
      "metadata": {
        "id": "3hme_mdBqR3f",
        "colab_type": "code",
        "colab": {
          "base_uri": "https://localhost:8080/",
          "height": 67
        },
        "outputId": "80a9984b-9957-4fa7-f8da-df95e1d18d1e"
      },
      "source": [
        "for col in df.select_dtypes(include='object').columns:\n",
        "  print(df[col].name, df[col].unique())"
      ],
      "execution_count": null,
      "outputs": [
        {
          "output_type": "stream",
          "text": [
            "city ['São Paulo' 'Porto Alegre' 'Rio de Janeiro' 'Campinas' 'Belo Horizonte']\n",
            "animal ['acept' 'not acept']\n",
            "furniture ['furnished' 'not furnished']\n"
          ],
          "name": "stdout"
        }
      ]
    },
    {
      "cell_type": "code",
      "metadata": {
        "id": "WZwf60W7qR0w",
        "colab_type": "code",
        "colab": {}
      },
      "source": [
        "from sklearn.preprocessing import LabelEncoder"
      ],
      "execution_count": null,
      "outputs": []
    },
    {
      "cell_type": "code",
      "metadata": {
        "id": "HAnK6ObTq9xg",
        "colab_type": "code",
        "colab": {}
      },
      "source": [
        "le = LabelEncoder()"
      ],
      "execution_count": null,
      "outputs": []
    },
    {
      "cell_type": "code",
      "metadata": {
        "id": "wj9I4mISq_uc",
        "colab_type": "code",
        "colab": {}
      },
      "source": [
        "for col in df.select_dtypes(include='object').columns:\n",
        "  df[col] = le.fit_transform(df[col])"
      ],
      "execution_count": null,
      "outputs": []
    },
    {
      "cell_type": "code",
      "metadata": {
        "id": "Eq_r2o7CrMNF",
        "colab_type": "code",
        "colab": {
          "base_uri": "https://localhost:8080/",
          "height": 249
        },
        "outputId": "3e44b908-951d-4268-bb98-6ff0890c59a0"
      },
      "source": [
        "df.head()"
      ],
      "execution_count": null,
      "outputs": [
        {
          "output_type": "execute_result",
          "data": {
            "text/html": [
              "<div>\n",
              "<style scoped>\n",
              "    .dataframe tbody tr th:only-of-type {\n",
              "        vertical-align: middle;\n",
              "    }\n",
              "\n",
              "    .dataframe tbody tr th {\n",
              "        vertical-align: top;\n",
              "    }\n",
              "\n",
              "    .dataframe thead th {\n",
              "        text-align: right;\n",
              "    }\n",
              "</style>\n",
              "<table border=\"1\" class=\"dataframe\">\n",
              "  <thead>\n",
              "    <tr style=\"text-align: right;\">\n",
              "      <th></th>\n",
              "      <th>city</th>\n",
              "      <th>animal</th>\n",
              "      <th>furniture</th>\n",
              "      <th>area_zscore</th>\n",
              "      <th>rooms_zscore</th>\n",
              "      <th>bathroom_zscore</th>\n",
              "      <th>parking spaces_zscore</th>\n",
              "      <th>floor_zscore</th>\n",
              "      <th>hoa (R$)_zscore</th>\n",
              "      <th>rent amount (R$)_zscore</th>\n",
              "      <th>property tax (R$)_zscore</th>\n",
              "      <th>fire insurance (R$)_zscore</th>\n",
              "      <th>total (R$)_zscore</th>\n",
              "    </tr>\n",
              "  </thead>\n",
              "  <tbody>\n",
              "    <tr>\n",
              "      <th>0</th>\n",
              "      <td>4</td>\n",
              "      <td>0</td>\n",
              "      <td>0</td>\n",
              "      <td>-0.147515</td>\n",
              "      <td>-0.432079</td>\n",
              "      <td>-0.878919</td>\n",
              "      <td>-0.383227</td>\n",
              "      <td>0.067716</td>\n",
              "      <td>0.057142</td>\n",
              "      <td>-0.174927</td>\n",
              "      <td>-0.050101</td>\n",
              "      <td>-0.236578</td>\n",
              "      <td>0.007735</td>\n",
              "    </tr>\n",
              "    <tr>\n",
              "      <th>1</th>\n",
              "      <td>4</td>\n",
              "      <td>0</td>\n",
              "      <td>1</td>\n",
              "      <td>0.318020</td>\n",
              "      <td>1.275475</td>\n",
              "      <td>1.252977</td>\n",
              "      <td>-1.012347</td>\n",
              "      <td>2.180189</td>\n",
              "      <td>0.001666</td>\n",
              "      <td>0.312084</td>\n",
              "      <td>0.445100</td>\n",
              "      <td>0.203046</td>\n",
              "      <td>0.150595</td>\n",
              "    </tr>\n",
              "    <tr>\n",
              "      <th>2</th>\n",
              "      <td>2</td>\n",
              "      <td>0</td>\n",
              "      <td>1</td>\n",
              "      <td>-0.128893</td>\n",
              "      <td>-1.285856</td>\n",
              "      <td>-0.878919</td>\n",
              "      <td>-0.383227</td>\n",
              "      <td>-0.094782</td>\n",
              "      <td>-0.011161</td>\n",
              "      <td>-0.321617</td>\n",
              "      <td>-0.117994</td>\n",
              "      <td>-0.257513</td>\n",
              "      <td>-0.100062</td>\n",
              "    </tr>\n",
              "    <tr>\n",
              "      <th>3</th>\n",
              "      <td>2</td>\n",
              "      <td>0</td>\n",
              "      <td>1</td>\n",
              "      <td>-0.182895</td>\n",
              "      <td>-0.432079</td>\n",
              "      <td>-0.878919</td>\n",
              "      <td>-1.012347</td>\n",
              "      <td>-0.744774</td>\n",
              "      <td>-0.057979</td>\n",
              "      <td>-0.816843</td>\n",
              "      <td>-0.110915</td>\n",
              "      <td>-0.759941</td>\n",
              "      <td>-0.246864</td>\n",
              "    </tr>\n",
              "    <tr>\n",
              "      <th>4</th>\n",
              "      <td>4</td>\n",
              "      <td>1</td>\n",
              "      <td>1</td>\n",
              "      <td>-0.231311</td>\n",
              "      <td>-1.285856</td>\n",
              "      <td>-0.878919</td>\n",
              "      <td>-1.012347</td>\n",
              "      <td>-0.907272</td>\n",
              "      <td>-0.075295</td>\n",
              "      <td>-0.908378</td>\n",
              "      <td>-0.109949</td>\n",
              "      <td>-0.885548</td>\n",
              "      <td>-0.282351</td>\n",
              "    </tr>\n",
              "  </tbody>\n",
              "</table>\n",
              "</div>"
            ],
            "text/plain": [
              "   city  animal  ...  fire insurance (R$)_zscore  total (R$)_zscore\n",
              "0     4       0  ...                   -0.236578           0.007735\n",
              "1     4       0  ...                    0.203046           0.150595\n",
              "2     2       0  ...                   -0.257513          -0.100062\n",
              "3     2       0  ...                   -0.759941          -0.246864\n",
              "4     4       1  ...                   -0.885548          -0.282351\n",
              "\n",
              "[5 rows x 13 columns]"
            ]
          },
          "metadata": {
            "tags": []
          },
          "execution_count": 51
        }
      ]
    },
    {
      "cell_type": "code",
      "metadata": {
        "id": "T0k66OzxrO7u",
        "colab_type": "code",
        "colab": {}
      },
      "source": [
        "from sklearn.model_selection import train_test_split"
      ],
      "execution_count": null,
      "outputs": []
    },
    {
      "cell_type": "code",
      "metadata": {
        "id": "aaCv5P53rUlG",
        "colab_type": "code",
        "colab": {}
      },
      "source": [
        "x = df.drop('total (R$)_zscore', axis='columns')\n",
        "y = df['total (R$)_zscore']"
      ],
      "execution_count": null,
      "outputs": []
    },
    {
      "cell_type": "code",
      "metadata": {
        "id": "SoTco6iCrUgf",
        "colab_type": "code",
        "colab": {}
      },
      "source": [
        "x_train, x_test, y_train, y_test = train_test_split(x ,y, random_state=42, test_size=0.2)"
      ],
      "execution_count": null,
      "outputs": []
    },
    {
      "cell_type": "code",
      "metadata": {
        "id": "c3kZ-0ZGrUdE",
        "colab_type": "code",
        "colab": {
          "base_uri": "https://localhost:8080/",
          "height": 34
        },
        "outputId": "e50036ca-71d5-4290-a650-9e551e05bda7"
      },
      "source": [
        "x_train.shape"
      ],
      "execution_count": null,
      "outputs": [
        {
          "output_type": "execute_result",
          "data": {
            "text/plain": [
              "(6395, 12)"
            ]
          },
          "metadata": {
            "tags": []
          },
          "execution_count": 55
        }
      ]
    },
    {
      "cell_type": "code",
      "metadata": {
        "id": "YdH-pZSVrUa6",
        "colab_type": "code",
        "colab": {
          "base_uri": "https://localhost:8080/",
          "height": 34
        },
        "outputId": "915e9728-99af-45e0-eda0-5ca32d2a6ded"
      },
      "source": [
        "x_test.shape"
      ],
      "execution_count": null,
      "outputs": [
        {
          "output_type": "execute_result",
          "data": {
            "text/plain": [
              "(1599, 12)"
            ]
          },
          "metadata": {
            "tags": []
          },
          "execution_count": 56
        }
      ]
    },
    {
      "cell_type": "code",
      "metadata": {
        "id": "hZmuKQ8CenSx",
        "colab_type": "code",
        "colab": {}
      },
      "source": [
        "from sklearn.ensemble import RandomForestRegressor"
      ],
      "execution_count": null,
      "outputs": []
    },
    {
      "cell_type": "code",
      "metadata": {
        "id": "V2WNiVjSet5i",
        "colab_type": "code",
        "colab": {}
      },
      "source": [
        "rf_model = RandomForestRegressor()"
      ],
      "execution_count": null,
      "outputs": []
    },
    {
      "cell_type": "code",
      "metadata": {
        "id": "UPK96alTZwqo",
        "colab_type": "code",
        "colab": {
          "base_uri": "https://localhost:8080/",
          "height": 134
        },
        "outputId": "e8416eb2-c1ce-4010-84fb-86012164d71c"
      },
      "source": [
        "rf_model.fit(x_train, y_train)"
      ],
      "execution_count": null,
      "outputs": [
        {
          "output_type": "execute_result",
          "data": {
            "text/plain": [
              "RandomForestRegressor(bootstrap=True, ccp_alpha=0.0, criterion='mse',\n",
              "                      max_depth=None, max_features='auto', max_leaf_nodes=None,\n",
              "                      max_samples=None, min_impurity_decrease=0.0,\n",
              "                      min_impurity_split=None, min_samples_leaf=1,\n",
              "                      min_samples_split=2, min_weight_fraction_leaf=0.0,\n",
              "                      n_estimators=100, n_jobs=None, oob_score=False,\n",
              "                      random_state=None, verbose=0, warm_start=False)"
            ]
          },
          "metadata": {
            "tags": []
          },
          "execution_count": 163
        }
      ]
    },
    {
      "cell_type": "code",
      "metadata": {
        "id": "UlfVMBMAZwnz",
        "colab_type": "code",
        "colab": {
          "base_uri": "https://localhost:8080/",
          "height": 34
        },
        "outputId": "65294958-4aad-4dbd-90fd-78d69a7c0923"
      },
      "source": [
        "rf.score(x_test, y_test)"
      ],
      "execution_count": null,
      "outputs": [
        {
          "output_type": "execute_result",
          "data": {
            "text/plain": [
              "0.9968859455030633"
            ]
          },
          "metadata": {
            "tags": []
          },
          "execution_count": 164
        }
      ]
    },
    {
      "cell_type": "code",
      "metadata": {
        "id": "gnQn-g6bbIJK",
        "colab_type": "code",
        "colab": {}
      },
      "source": [
        "pred_rf = rf.predict(x_test)"
      ],
      "execution_count": null,
      "outputs": []
    },
    {
      "cell_type": "code",
      "metadata": {
        "id": "-4ZLDZgrZwmF",
        "colab_type": "code",
        "colab": {}
      },
      "source": [
        "from sklearn.metrics import mean_squared_error, mean_absolute_error"
      ],
      "execution_count": null,
      "outputs": []
    },
    {
      "cell_type": "code",
      "metadata": {
        "id": "JkjL43wmZwid",
        "colab_type": "code",
        "colab": {}
      },
      "source": [
        "mse = mean_squared_error(pred_rf, y_test)\n",
        "mae = mean_absolute_error(pred_rf, y_test)\n",
        "rmse = np.sqrt(mse)"
      ],
      "execution_count": null,
      "outputs": []
    },
    {
      "cell_type": "code",
      "metadata": {
        "id": "EAepTvL9Zwcj",
        "colab_type": "code",
        "colab": {
          "base_uri": "https://localhost:8080/",
          "height": 34
        },
        "outputId": "ac93e8d2-453c-47e8-eee6-29caafd33f8f"
      },
      "source": [
        "mse, mae , rmse"
      ],
      "execution_count": null,
      "outputs": [
        {
          "output_type": "execute_result",
          "data": {
            "text/plain": [
              "(0.00016743356733510005, 0.004254864294128101, 0.012939612333261769)"
            ]
          },
          "metadata": {
            "tags": []
          },
          "execution_count": 160
        }
      ]
    },
    {
      "cell_type": "code",
      "metadata": {
        "id": "SUqO0y-F9x2x",
        "colab_type": "code",
        "colab": {}
      },
      "source": [
        ""
      ],
      "execution_count": null,
      "outputs": []
    }
  ]
}