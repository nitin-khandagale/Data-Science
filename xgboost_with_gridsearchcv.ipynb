{
  "nbformat": 4,
  "nbformat_minor": 0,
  "metadata": {
    "colab": {
      "name": "gridsearchcv_xgboost.ipynb",
      "provenance": [],
      "authorship_tag": "ABX9TyOrvs/35rdRHrzXhgtaYUWF",
      "include_colab_link": true
    },
    "kernelspec": {
      "name": "python3",
      "display_name": "Python 3"
    }
  },
  "cells": [
    {
      "cell_type": "markdown",
      "metadata": {
        "id": "view-in-github",
        "colab_type": "text"
      },
      "source": [
        "<a href=\"https://colab.research.google.com/github/nitin-khandagale/blogposts/blob/master/xgboost_with_gridsearchcv.ipynb\" target=\"_parent\"><img src=\"https://colab.research.google.com/assets/colab-badge.svg\" alt=\"Open In Colab\"/></a>"
      ]
    },
    {
      "cell_type": "code",
      "metadata": {
        "id": "yvzH0iHX-veG",
        "colab_type": "code",
        "colab": {}
      },
      "source": [
        "import pandas as pd\n",
        "import numpy as np\n",
        "from sklearn.model_selection import train_test_split\n",
        "from sklearn.metrics import mean_squared_error"
      ],
      "execution_count": 0,
      "outputs": []
    },
    {
      "cell_type": "code",
      "metadata": {
        "id": "s5b8HG3YS4np",
        "colab_type": "code",
        "colab": {}
      },
      "source": [
        "df = pd.read_csv('admission.csv')"
      ],
      "execution_count": 0,
      "outputs": []
    },
    {
      "cell_type": "code",
      "metadata": {
        "id": "oDUggNWeS-DV",
        "colab_type": "code",
        "outputId": "6c66469a-b746-4a57-92d8-f94552132ff7",
        "colab": {
          "base_uri": "https://localhost:8080/",
          "height": 195
        }
      },
      "source": [
        "df.head()"
      ],
      "execution_count": 0,
      "outputs": [
        {
          "output_type": "execute_result",
          "data": {
            "text/html": [
              "<div>\n",
              "<style scoped>\n",
              "    .dataframe tbody tr th:only-of-type {\n",
              "        vertical-align: middle;\n",
              "    }\n",
              "\n",
              "    .dataframe tbody tr th {\n",
              "        vertical-align: top;\n",
              "    }\n",
              "\n",
              "    .dataframe thead th {\n",
              "        text-align: right;\n",
              "    }\n",
              "</style>\n",
              "<table border=\"1\" class=\"dataframe\">\n",
              "  <thead>\n",
              "    <tr style=\"text-align: right;\">\n",
              "      <th></th>\n",
              "      <th>Serial No.</th>\n",
              "      <th>GRE Score</th>\n",
              "      <th>TOEFL Score</th>\n",
              "      <th>University Rating</th>\n",
              "      <th>SOP</th>\n",
              "      <th>LOR</th>\n",
              "      <th>CGPA</th>\n",
              "      <th>Research</th>\n",
              "      <th>Chance of Admit</th>\n",
              "    </tr>\n",
              "  </thead>\n",
              "  <tbody>\n",
              "    <tr>\n",
              "      <th>0</th>\n",
              "      <td>1</td>\n",
              "      <td>337</td>\n",
              "      <td>118</td>\n",
              "      <td>4</td>\n",
              "      <td>4.5</td>\n",
              "      <td>4.5</td>\n",
              "      <td>9.65</td>\n",
              "      <td>1</td>\n",
              "      <td>0.92</td>\n",
              "    </tr>\n",
              "    <tr>\n",
              "      <th>1</th>\n",
              "      <td>2</td>\n",
              "      <td>324</td>\n",
              "      <td>107</td>\n",
              "      <td>4</td>\n",
              "      <td>4.0</td>\n",
              "      <td>4.5</td>\n",
              "      <td>8.87</td>\n",
              "      <td>1</td>\n",
              "      <td>0.76</td>\n",
              "    </tr>\n",
              "    <tr>\n",
              "      <th>2</th>\n",
              "      <td>3</td>\n",
              "      <td>316</td>\n",
              "      <td>104</td>\n",
              "      <td>3</td>\n",
              "      <td>3.0</td>\n",
              "      <td>3.5</td>\n",
              "      <td>8.00</td>\n",
              "      <td>1</td>\n",
              "      <td>0.72</td>\n",
              "    </tr>\n",
              "    <tr>\n",
              "      <th>3</th>\n",
              "      <td>4</td>\n",
              "      <td>322</td>\n",
              "      <td>110</td>\n",
              "      <td>3</td>\n",
              "      <td>3.5</td>\n",
              "      <td>2.5</td>\n",
              "      <td>8.67</td>\n",
              "      <td>1</td>\n",
              "      <td>0.80</td>\n",
              "    </tr>\n",
              "    <tr>\n",
              "      <th>4</th>\n",
              "      <td>5</td>\n",
              "      <td>314</td>\n",
              "      <td>103</td>\n",
              "      <td>2</td>\n",
              "      <td>2.0</td>\n",
              "      <td>3.0</td>\n",
              "      <td>8.21</td>\n",
              "      <td>0</td>\n",
              "      <td>0.65</td>\n",
              "    </tr>\n",
              "  </tbody>\n",
              "</table>\n",
              "</div>"
            ],
            "text/plain": [
              "   Serial No.  GRE Score  TOEFL Score  ...  CGPA  Research  Chance of Admit \n",
              "0           1        337          118  ...  9.65         1              0.92\n",
              "1           2        324          107  ...  8.87         1              0.76\n",
              "2           3        316          104  ...  8.00         1              0.72\n",
              "3           4        322          110  ...  8.67         1              0.80\n",
              "4           5        314          103  ...  8.21         0              0.65\n",
              "\n",
              "[5 rows x 9 columns]"
            ]
          },
          "metadata": {
            "tags": []
          },
          "execution_count": 133
        }
      ]
    },
    {
      "cell_type": "code",
      "metadata": {
        "id": "sLaEGyR4S_d2",
        "colab_type": "code",
        "outputId": "75c7b76a-b5e1-4976-a4c4-279baeeae483",
        "colab": {
          "base_uri": "https://localhost:8080/",
          "height": 185
        }
      },
      "source": [
        "df.isnull().sum()"
      ],
      "execution_count": 0,
      "outputs": [
        {
          "output_type": "execute_result",
          "data": {
            "text/plain": [
              "Serial No.           0\n",
              "GRE Score            0\n",
              "TOEFL Score          0\n",
              "University Rating    0\n",
              "SOP                  0\n",
              "LOR                  0\n",
              "CGPA                 0\n",
              "Research             0\n",
              "Chance of Admit      0\n",
              "dtype: int64"
            ]
          },
          "metadata": {
            "tags": []
          },
          "execution_count": 134
        }
      ]
    },
    {
      "cell_type": "code",
      "metadata": {
        "id": "Tr08YFQjUGSo",
        "colab_type": "code",
        "colab": {}
      },
      "source": [
        "df = df.drop('Serial No.', axis='columns')"
      ],
      "execution_count": 0,
      "outputs": []
    },
    {
      "cell_type": "code",
      "metadata": {
        "id": "dW7wydOETHrP",
        "colab_type": "code",
        "outputId": "b30b9c23-3b56-41af-8139-ba453fb10ea2",
        "colab": {
          "base_uri": "https://localhost:8080/",
          "height": 195
        }
      },
      "source": [
        "df.head()"
      ],
      "execution_count": 0,
      "outputs": [
        {
          "output_type": "execute_result",
          "data": {
            "text/html": [
              "<div>\n",
              "<style scoped>\n",
              "    .dataframe tbody tr th:only-of-type {\n",
              "        vertical-align: middle;\n",
              "    }\n",
              "\n",
              "    .dataframe tbody tr th {\n",
              "        vertical-align: top;\n",
              "    }\n",
              "\n",
              "    .dataframe thead th {\n",
              "        text-align: right;\n",
              "    }\n",
              "</style>\n",
              "<table border=\"1\" class=\"dataframe\">\n",
              "  <thead>\n",
              "    <tr style=\"text-align: right;\">\n",
              "      <th></th>\n",
              "      <th>GRE Score</th>\n",
              "      <th>TOEFL Score</th>\n",
              "      <th>University Rating</th>\n",
              "      <th>SOP</th>\n",
              "      <th>LOR</th>\n",
              "      <th>CGPA</th>\n",
              "      <th>Research</th>\n",
              "      <th>Chance of Admit</th>\n",
              "    </tr>\n",
              "  </thead>\n",
              "  <tbody>\n",
              "    <tr>\n",
              "      <th>0</th>\n",
              "      <td>337</td>\n",
              "      <td>118</td>\n",
              "      <td>4</td>\n",
              "      <td>4.5</td>\n",
              "      <td>4.5</td>\n",
              "      <td>9.65</td>\n",
              "      <td>1</td>\n",
              "      <td>0.92</td>\n",
              "    </tr>\n",
              "    <tr>\n",
              "      <th>1</th>\n",
              "      <td>324</td>\n",
              "      <td>107</td>\n",
              "      <td>4</td>\n",
              "      <td>4.0</td>\n",
              "      <td>4.5</td>\n",
              "      <td>8.87</td>\n",
              "      <td>1</td>\n",
              "      <td>0.76</td>\n",
              "    </tr>\n",
              "    <tr>\n",
              "      <th>2</th>\n",
              "      <td>316</td>\n",
              "      <td>104</td>\n",
              "      <td>3</td>\n",
              "      <td>3.0</td>\n",
              "      <td>3.5</td>\n",
              "      <td>8.00</td>\n",
              "      <td>1</td>\n",
              "      <td>0.72</td>\n",
              "    </tr>\n",
              "    <tr>\n",
              "      <th>3</th>\n",
              "      <td>322</td>\n",
              "      <td>110</td>\n",
              "      <td>3</td>\n",
              "      <td>3.5</td>\n",
              "      <td>2.5</td>\n",
              "      <td>8.67</td>\n",
              "      <td>1</td>\n",
              "      <td>0.80</td>\n",
              "    </tr>\n",
              "    <tr>\n",
              "      <th>4</th>\n",
              "      <td>314</td>\n",
              "      <td>103</td>\n",
              "      <td>2</td>\n",
              "      <td>2.0</td>\n",
              "      <td>3.0</td>\n",
              "      <td>8.21</td>\n",
              "      <td>0</td>\n",
              "      <td>0.65</td>\n",
              "    </tr>\n",
              "  </tbody>\n",
              "</table>\n",
              "</div>"
            ],
            "text/plain": [
              "   GRE Score  TOEFL Score  University Rating  ...  CGPA  Research  Chance of Admit \n",
              "0        337          118                  4  ...  9.65         1              0.92\n",
              "1        324          107                  4  ...  8.87         1              0.76\n",
              "2        316          104                  3  ...  8.00         1              0.72\n",
              "3        322          110                  3  ...  8.67         1              0.80\n",
              "4        314          103                  2  ...  8.21         0              0.65\n",
              "\n",
              "[5 rows x 8 columns]"
            ]
          },
          "metadata": {
            "tags": []
          },
          "execution_count": 136
        }
      ]
    },
    {
      "cell_type": "code",
      "metadata": {
        "id": "T51pd7vTUR4t",
        "colab_type": "code",
        "colab": {}
      },
      "source": [
        "x = df.drop('Chance of Admit ', axis='columns')\n",
        "y = df['Chance of Admit ']"
      ],
      "execution_count": 0,
      "outputs": []
    },
    {
      "cell_type": "code",
      "metadata": {
        "id": "Rq0D-w3MUqvg",
        "colab_type": "code",
        "colab": {}
      },
      "source": [
        "x_train, x_test, y_train, y_test = train_test_split(x,y,random_state=42)"
      ],
      "execution_count": 0,
      "outputs": []
    },
    {
      "cell_type": "code",
      "metadata": {
        "id": "9qs2CnHaVbbZ",
        "colab_type": "code",
        "colab": {}
      },
      "source": [
        "import xgboost as xgb"
      ],
      "execution_count": 0,
      "outputs": []
    },
    {
      "cell_type": "code",
      "metadata": {
        "id": "Wt4YIWtRVoYU",
        "colab_type": "code",
        "colab": {}
      },
      "source": [
        "my_model = xgb.XGBRegressor(learning_rate=0.01,\n",
        "                            n_estimators=200,\n",
        "                            max_depth = 10)"
      ],
      "execution_count": 0,
      "outputs": []
    },
    {
      "cell_type": "code",
      "metadata": {
        "id": "rkR52J1kWSJG",
        "colab_type": "code",
        "outputId": "9648dc41-90b5-41de-b9ec-8be87ab1f9e6",
        "colab": {
          "base_uri": "https://localhost:8080/",
          "height": 151
        }
      },
      "source": [
        "my_model.fit(x_train,y_train)"
      ],
      "execution_count": 0,
      "outputs": [
        {
          "output_type": "stream",
          "text": [
            "[07:21:21] WARNING: /workspace/src/objective/regression_obj.cu:152: reg:linear is now deprecated in favor of reg:squarederror.\n"
          ],
          "name": "stdout"
        },
        {
          "output_type": "execute_result",
          "data": {
            "text/plain": [
              "XGBRegressor(base_score=0.5, booster='gbtree', colsample_bylevel=1,\n",
              "             colsample_bynode=1, colsample_bytree=1, gamma=0,\n",
              "             importance_type='gain', learning_rate=0.01, max_delta_step=0,\n",
              "             max_depth=10, min_child_weight=1, missing=None, n_estimators=200,\n",
              "             n_jobs=1, nthread=None, objective='reg:linear', random_state=0,\n",
              "             reg_alpha=0, reg_lambda=1, scale_pos_weight=1, seed=None,\n",
              "             silent=None, subsample=1, verbosity=1)"
            ]
          },
          "metadata": {
            "tags": []
          },
          "execution_count": 141
        }
      ]
    },
    {
      "cell_type": "code",
      "metadata": {
        "id": "Os4yNU-pWb_l",
        "colab_type": "code",
        "outputId": "1bae8bd4-d179-4dc9-c520-8edf16f5874d",
        "colab": {
          "base_uri": "https://localhost:8080/",
          "height": 454
        }
      },
      "source": [
        "predictions = my_model.predict(x_test)\n",
        "predictions"
      ],
      "execution_count": 0,
      "outputs": [
        {
          "output_type": "execute_result",
          "data": {
            "text/plain": [
              "array([0.8785752 , 0.7463918 , 0.58321595, 0.6841644 , 0.77803016,\n",
              "       0.8308709 , 0.48153993, 0.5980663 , 0.7927667 , 0.74289626,\n",
              "       0.668728  , 0.6925988 , 0.6055089 , 0.8698859 , 0.8071852 ,\n",
              "       0.52870613, 0.79504   , 0.5786623 , 0.51339906, 0.53002423,\n",
              "       0.6218078 , 0.4769791 , 0.6859843 , 0.7189771 , 0.74082613,\n",
              "       0.5975107 , 0.8731014 , 0.7981994 , 0.6445588 , 0.70711744,\n",
              "       0.62775993, 0.70541775, 0.55235416, 0.833729  , 0.65920186,\n",
              "       0.7235327 , 0.6116984 , 0.8785752 , 0.60370904, 0.67118764,\n",
              "       0.8785752 , 0.5871479 , 0.69093883, 0.8011174 , 0.8785752 ,\n",
              "       0.6025568 , 0.8785752 , 0.773571  , 0.6537324 , 0.8608613 ,\n",
              "       0.852172  , 0.53920925, 0.656043  , 0.47873193, 0.8785752 ,\n",
              "       0.6050967 , 0.8785752 , 0.7066115 , 0.59025013, 0.40945575,\n",
              "       0.5437047 , 0.6810359 , 0.57598364, 0.5142009 , 0.4784575 ,\n",
              "       0.5501333 , 0.8347601 , 0.84650075, 0.66272897, 0.66883063,\n",
              "       0.6002376 , 0.73555136, 0.6506157 , 0.5625883 , 0.5782905 ,\n",
              "       0.5607412 , 0.8020824 , 0.8079378 , 0.5290528 , 0.662579  ,\n",
              "       0.6025291 , 0.83522695, 0.6147949 , 0.8020824 , 0.6721036 ,\n",
              "       0.6445304 , 0.6104042 , 0.7241326 , 0.7428824 , 0.6611116 ,\n",
              "       0.716926  , 0.8577516 , 0.86349124, 0.6751559 , 0.72997636,\n",
              "       0.47899222, 0.6810521 , 0.6853428 , 0.67878556, 0.6203956 ,\n",
              "       0.74477714, 0.6871239 , 0.65987235, 0.6622484 , 0.60738325,\n",
              "       0.58321595, 0.70336056, 0.73476994, 0.59944105, 0.650918  ,\n",
              "       0.61690426, 0.8785752 , 0.7997129 , 0.8785752 , 0.45354217,\n",
              "       0.75592124, 0.6603188 , 0.8411634 , 0.4842071 , 0.60347486,\n",
              "       0.6882076 , 0.8105376 , 0.68167055, 0.6845598 , 0.65793544],\n",
              "      dtype=float32)"
            ]
          },
          "metadata": {
            "tags": []
          },
          "execution_count": 143
        }
      ]
    },
    {
      "cell_type": "code",
      "metadata": {
        "id": "eexyoaQfWyCF",
        "colab_type": "code",
        "colab": {}
      },
      "source": [
        "score = my_model.score(x_test, y_test)\n",
        "mae = mean_squared_error(y_test, predictions)\n",
        "rmse = np.sqrt(mae)"
      ],
      "execution_count": 0,
      "outputs": []
    },
    {
      "cell_type": "code",
      "metadata": {
        "id": "sVYEy7u1Znlq",
        "colab_type": "code",
        "outputId": "62ddb3cf-d2dd-4b83-d50c-e7a7fe61e5e1",
        "colab": {
          "base_uri": "https://localhost:8080/",
          "height": 67
        }
      },
      "source": [
        "print('Model Accuracy : ', score)\n",
        "print('Mean Squared Error : ', mae)\n",
        "print('RMSE : ', rmse)"
      ],
      "execution_count": 0,
      "outputs": [
        {
          "output_type": "stream",
          "text": [
            "Model Accuracy :  0.7316321668111452\n",
            "Mean Squared Error :  0.005239010713678726\n",
            "RMSE :  0.07238101072573334\n"
          ],
          "name": "stdout"
        }
      ]
    },
    {
      "cell_type": "code",
      "metadata": {
        "id": "P3yAeBo8aUEc",
        "colab_type": "code",
        "outputId": "93f78e4b-0b12-47e1-9176-194b80aef962",
        "colab": {
          "base_uri": "https://localhost:8080/",
          "height": 34
        }
      },
      "source": [
        "rmse"
      ],
      "execution_count": 0,
      "outputs": [
        {
          "output_type": "execute_result",
          "data": {
            "text/plain": [
              "0.07238101072573334"
            ]
          },
          "metadata": {
            "tags": []
          },
          "execution_count": 52
        }
      ]
    },
    {
      "cell_type": "code",
      "metadata": {
        "id": "xlSENIRsbcZe",
        "colab_type": "code",
        "colab": {}
      },
      "source": [
        "from sklearn.model_selection import GridSearchCV"
      ],
      "execution_count": 0,
      "outputs": []
    },
    {
      "cell_type": "code",
      "metadata": {
        "id": "xk3tCUoIcUBQ",
        "colab_type": "code",
        "colab": {}
      },
      "source": [
        "params = {\n",
        "    'max_depth': range (2, 10, 1),\n",
        "    'n_estimators': range(60, 220, 40),\n",
        "    'learning_rate': [0.1, 0.01, 0.05]\n",
        "}"
      ],
      "execution_count": 0,
      "outputs": []
    },
    {
      "cell_type": "code",
      "metadata": {
        "id": "eruq3jHDci0c",
        "colab_type": "code",
        "colab": {}
      },
      "source": [
        "grid_search = GridSearchCV(estimator=my_model,\n",
        "                           param_grid=params,                           \n",
        "                           n_jobs=10,\n",
        "                           cv=10,\n",
        "                           verbose=True)"
      ],
      "execution_count": 0,
      "outputs": []
    },
    {
      "cell_type": "code",
      "metadata": {
        "id": "Vq8a0uU_daAa",
        "colab_type": "code",
        "outputId": "b16e3411-6c3a-4311-9ce5-a7c1e1d41682",
        "colab": {
          "base_uri": "https://localhost:8080/",
          "height": 454
        }
      },
      "source": [
        "grid_search.fit(x_train,y_train)"
      ],
      "execution_count": 0,
      "outputs": [
        {
          "output_type": "stream",
          "text": [
            "Fitting 10 folds for each of 96 candidates, totalling 960 fits\n"
          ],
          "name": "stdout"
        },
        {
          "output_type": "stream",
          "text": [
            "[Parallel(n_jobs=10)]: Using backend LokyBackend with 10 concurrent workers.\n",
            "[Parallel(n_jobs=10)]: Done  42 tasks      | elapsed:    1.1s\n",
            "[Parallel(n_jobs=10)]: Done 321 tasks      | elapsed:   12.8s\n",
            "[Parallel(n_jobs=10)]: Done 571 tasks      | elapsed:   22.2s\n",
            "[Parallel(n_jobs=10)]: Done 921 tasks      | elapsed:   37.7s\n"
          ],
          "name": "stderr"
        },
        {
          "output_type": "stream",
          "text": [
            "[07:35:07] WARNING: /workspace/src/objective/regression_obj.cu:152: reg:linear is now deprecated in favor of reg:squarederror.\n"
          ],
          "name": "stdout"
        },
        {
          "output_type": "stream",
          "text": [
            "[Parallel(n_jobs=10)]: Done 960 out of 960 | elapsed:   40.2s finished\n"
          ],
          "name": "stderr"
        },
        {
          "output_type": "execute_result",
          "data": {
            "text/plain": [
              "GridSearchCV(cv=10, error_score=nan,\n",
              "             estimator=XGBRegressor(base_score=0.5, booster='gbtree',\n",
              "                                    colsample_bylevel=1, colsample_bynode=1,\n",
              "                                    colsample_bytree=1, gamma=0,\n",
              "                                    importance_type='gain', learning_rate=0.01,\n",
              "                                    max_delta_step=0, max_depth=10,\n",
              "                                    min_child_weight=1, missing=None,\n",
              "                                    n_estimators=200, n_jobs=1, nthread=None,\n",
              "                                    objective='reg:linear', random_state=0,\n",
              "                                    reg_alpha=0, reg_lambda=1,\n",
              "                                    scale_pos_weight=1, seed=None, silent=None,\n",
              "                                    subsample=1, verbosity=1),\n",
              "             iid='deprecated', n_jobs=10,\n",
              "             param_grid={'learning_rate': [0.1, 0.01, 0.05],\n",
              "                         'max_depth': range(2, 10),\n",
              "                         'n_estimators': range(60, 220, 40)},\n",
              "             pre_dispatch='2*n_jobs', refit=True, return_train_score=False,\n",
              "             scoring=None, verbose=True)"
            ]
          },
          "metadata": {
            "tags": []
          },
          "execution_count": 154
        }
      ]
    },
    {
      "cell_type": "code",
      "metadata": {
        "id": "RSX54nZxdh3K",
        "colab_type": "code",
        "outputId": "093b39b5-5c94-40a5-9638-6b21b88100be",
        "colab": {
          "base_uri": "https://localhost:8080/",
          "height": 454
        }
      },
      "source": [
        "predictions_1 = grid_search.predict(x_test)\n",
        "predictions_1"
      ],
      "execution_count": 0,
      "outputs": [
        {
          "output_type": "execute_result",
          "data": {
            "text/plain": [
              "array([0.9321965 , 0.7754983 , 0.60434866, 0.70649767, 0.8074559 ,\n",
              "       0.8773107 , 0.47659034, 0.6479396 , 0.8292232 , 0.7819885 ,\n",
              "       0.7051051 , 0.71536374, 0.6814879 , 0.93351334, 0.84434754,\n",
              "       0.5575907 , 0.83317626, 0.60378724, 0.53752446, 0.5557099 ,\n",
              "       0.6357167 , 0.5399263 , 0.72435176, 0.77609384, 0.7580795 ,\n",
              "       0.60091007, 0.93491626, 0.8407599 , 0.6496845 , 0.73285025,\n",
              "       0.5504495 , 0.7284399 , 0.555032  , 0.8865059 , 0.6380768 ,\n",
              "       0.7432487 , 0.5409546 , 0.94161975, 0.62936056, 0.7043438 ,\n",
              "       0.9454001 , 0.55049115, 0.6854825 , 0.85189676, 0.9434846 ,\n",
              "       0.5895054 , 0.93654096, 0.812364  , 0.7574407 , 0.9207794 ,\n",
              "       0.90656066, 0.5465455 , 0.67854655, 0.49430326, 0.9441266 ,\n",
              "       0.6370417 , 0.93786454, 0.73944384, 0.6504014 , 0.4631624 ,\n",
              "       0.60983086, 0.6832298 , 0.61480963, 0.56003773, 0.46147028,\n",
              "       0.6079391 , 0.8888391 , 0.907881  , 0.67979085, 0.7050109 ,\n",
              "       0.6039439 , 0.7553061 , 0.689108  , 0.5906809 , 0.5468786 ,\n",
              "       0.65999687, 0.84162796, 0.86591303, 0.54870415, 0.6693134 ,\n",
              "       0.68194443, 0.8805959 , 0.6256373 , 0.86190975, 0.7361335 ,\n",
              "       0.64481074, 0.6148575 , 0.7434841 , 0.774036  , 0.68565655,\n",
              "       0.748037  , 0.90254134, 0.92787087, 0.6843347 , 0.77261317,\n",
              "       0.45219693, 0.69589037, 0.7454311 , 0.7238266 , 0.6843347 ,\n",
              "       0.7763261 , 0.7321832 , 0.6443597 , 0.6923848 , 0.6476566 ,\n",
              "       0.57783854, 0.7192219 , 0.7792263 , 0.6427306 , 0.6878911 ,\n",
              "       0.6223111 , 0.9441266 , 0.8412874 , 0.94556475, 0.46340495,\n",
              "       0.79222965, 0.69589037, 0.90091383, 0.50480217, 0.67436254,\n",
              "       0.7213815 , 0.8668486 , 0.70450896, 0.7214577 , 0.7210435 ],\n",
              "      dtype=float32)"
            ]
          },
          "metadata": {
            "tags": []
          },
          "execution_count": 155
        }
      ]
    },
    {
      "cell_type": "code",
      "metadata": {
        "id": "cr4D2a5FeUFu",
        "colab_type": "code",
        "colab": {}
      },
      "source": [
        "score_1 = grid_search.score(x_test, y_test)\n",
        "mae_1 = mean_squared_error(y_test, predictions_1)\n",
        "rmse_1 = np.sqrt(mae_1)"
      ],
      "execution_count": 0,
      "outputs": []
    },
    {
      "cell_type": "code",
      "metadata": {
        "id": "vZCMP62vgD_w",
        "colab_type": "code",
        "outputId": "0c8ef597-5acc-4dc6-d3ad-e21e24221e70",
        "colab": {
          "base_uri": "https://localhost:8080/",
          "height": 34
        }
      },
      "source": [
        "score_1, mae_1, rmse_1"
      ],
      "execution_count": 0,
      "outputs": [
        {
          "output_type": "execute_result",
          "data": {
            "text/plain": [
              "(0.7989171923034357, 0.003925489025048512, 0.06265372315392367)"
            ]
          },
          "metadata": {
            "tags": []
          },
          "execution_count": 129
        }
      ]
    },
    {
      "cell_type": "code",
      "metadata": {
        "id": "EAdJVZPHgJJQ",
        "colab_type": "code",
        "outputId": "11e2c14c-35d3-449e-fd94-bb3ffa1644f7",
        "colab": {
          "base_uri": "https://localhost:8080/",
          "height": 34
        }
      },
      "source": [
        "score, mae, rmse"
      ],
      "execution_count": 0,
      "outputs": [
        {
          "output_type": "execute_result",
          "data": {
            "text/plain": [
              "(0.7316321668111452, 0.005239010713678726, 0.07238101072573334)"
            ]
          },
          "metadata": {
            "tags": []
          },
          "execution_count": 77
        }
      ]
    },
    {
      "cell_type": "code",
      "metadata": {
        "id": "_S6w20QImIRI",
        "colab_type": "code",
        "outputId": "459a5d70-84c2-412f-9eb1-ff40431292fd",
        "colab": {
          "base_uri": "https://localhost:8080/",
          "height": 67
        }
      },
      "source": [
        "print('Model Accuracy : ', score_1)\n",
        "print('Mean Squared Error : ', mae_1)\n",
        "print('RMSE : ', rmse_1)"
      ],
      "execution_count": 0,
      "outputs": [
        {
          "output_type": "stream",
          "text": [
            "Model Accuracy :  0.7989171923034357\n",
            "Mean Squared Error :  0.003925489025048512\n",
            "RMSE :  0.06265372315392367\n"
          ],
          "name": "stdout"
        }
      ]
    }
  ]
}